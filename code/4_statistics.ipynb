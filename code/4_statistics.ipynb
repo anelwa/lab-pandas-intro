{
    "cells": [
        {
            "attachments": {},
            "cell_type": "markdown",
            "metadata": {},
            "source": [
                "**Wichtige Hinweise**\n",
                "\n",
                "- Aktivieren Sie die entsprechende Conda-Umgebung bevor Sie beginnen.\n",
                "\n",
                "- Geben Sie als `NAME` ihr HdM-Kürzel an.\n",
                "\n",
                "- Ändern Sie **nicht** den Namen der Datei und löschen Sie keine Zellen.\n",
                "\n",
                "- Bearbeiten Sie alle Zellen mit dem Hinweis <font color='green'> \\# YOUR CODE HERE </font> \n",
                "\n",
                "- Die Funktion **NotImplementedError()** soll die Abgabe von leeren Zellen verhindern. Löschen Sie die Funktion, sobald Sie in einer dieser Zellen arbeiten. \n",
                "\n",
                "- Stellen Sie sicher, dass alles wie erwartet läuft, bevor Sie die Prüfung abgeben: Starten Sie den Kernel neu und führen Sie alle Zellen aus: wählen Sie \"Restart\" und dann \"Run All\" "
            ]
        },
        {
            "cell_type": "code",
            "execution_count": null,
            "metadata": {},
            "outputs": [],
            "source": [
                "NAME = \"\""
            ]
        },
        {
            "cell_type": "code",
            "execution_count": null,
            "metadata": {},
            "outputs": [],
            "source": [
                "import IPython\n",
                "assert IPython.version_info[0] >= 3, \"Your version of IPython is too old, please update it.\""
            ]
        },
        {
            "cell_type": "markdown",
            "metadata": {},
            "source": [
                "---"
            ]
        },
        {
            "cell_type": "markdown",
            "metadata": {},
            "source": [
                "# Statistics and plots"
            ]
        },
        {
            "cell_type": "markdown",
            "metadata": {},
            "source": [
                "## Import pandas"
            ]
        },
        {
            "cell_type": "code",
            "execution_count": 2,
            "metadata": {},
            "outputs": [],
            "source": [
                "import pandas as pd"
            ]
        },
        {
            "cell_type": "markdown",
            "metadata": {},
            "source": [
                "## Import data"
            ]
        },
        {
            "cell_type": "code",
            "execution_count": 3,
            "metadata": {},
            "outputs": [
                {
                    "data": {
                        "text/html": [
                            "<div>\n",
                            "<style scoped>\n",
                            "    .dataframe tbody tr th:only-of-type {\n",
                            "        vertical-align: middle;\n",
                            "    }\n",
                            "\n",
                            "    .dataframe tbody tr th {\n",
                            "        vertical-align: top;\n",
                            "    }\n",
                            "\n",
                            "    .dataframe thead th {\n",
                            "        text-align: right;\n",
                            "    }\n",
                            "</style>\n",
                            "<table border=\"1\" class=\"dataframe\">\n",
                            "  <thead>\n",
                            "    <tr style=\"text-align: right;\">\n",
                            "      <th></th>\n",
                            "      <th>name</th>\n",
                            "      <th>id</th>\n",
                            "      <th>height</th>\n",
                            "      <th>average_height_parents</th>\n",
                            "      <th>gender</th>\n",
                            "      <th>number</th>\n",
                            "      <th>height_m</th>\n",
                            "      <th>weight</th>\n",
                            "      <th>bmi</th>\n",
                            "      <th>date</th>\n",
                            "    </tr>\n",
                            "  </thead>\n",
                            "  <tbody>\n",
                            "    <tr>\n",
                            "      <th>0</th>\n",
                            "      <td>Stefanie</td>\n",
                            "      <td>1</td>\n",
                            "      <td>162</td>\n",
                            "      <td>161.5</td>\n",
                            "      <td>female</td>\n",
                            "      <td>42</td>\n",
                            "      <td>1.62</td>\n",
                            "      <td>84.58</td>\n",
                            "      <td>32.23</td>\n",
                            "      <td>2022-10-08</td>\n",
                            "    </tr>\n",
                            "    <tr>\n",
                            "      <th>1</th>\n",
                            "      <td>Peter</td>\n",
                            "      <td>2</td>\n",
                            "      <td>163</td>\n",
                            "      <td>163.5</td>\n",
                            "      <td>male</td>\n",
                            "      <td>42</td>\n",
                            "      <td>1.63</td>\n",
                            "      <td>70.57</td>\n",
                            "      <td>26.56</td>\n",
                            "      <td>2022-10-08</td>\n",
                            "    </tr>\n",
                            "    <tr>\n",
                            "      <th>2</th>\n",
                            "      <td>Stefanie</td>\n",
                            "      <td>3</td>\n",
                            "      <td>163</td>\n",
                            "      <td>163.2</td>\n",
                            "      <td>female</td>\n",
                            "      <td>42</td>\n",
                            "      <td>1.63</td>\n",
                            "      <td>75.48</td>\n",
                            "      <td>28.41</td>\n",
                            "      <td>2022-10-08</td>\n",
                            "    </tr>\n",
                            "    <tr>\n",
                            "      <th>3</th>\n",
                            "      <td>Manuela</td>\n",
                            "      <td>4</td>\n",
                            "      <td>164</td>\n",
                            "      <td>165.1</td>\n",
                            "      <td>female</td>\n",
                            "      <td>42</td>\n",
                            "      <td>1.64</td>\n",
                            "      <td>75.46</td>\n",
                            "      <td>28.06</td>\n",
                            "      <td>2022-10-08</td>\n",
                            "    </tr>\n",
                            "    <tr>\n",
                            "      <th>4</th>\n",
                            "      <td>Simon</td>\n",
                            "      <td>5</td>\n",
                            "      <td>164</td>\n",
                            "      <td>163.2</td>\n",
                            "      <td>male</td>\n",
                            "      <td>42</td>\n",
                            "      <td>1.64</td>\n",
                            "      <td>83.24</td>\n",
                            "      <td>30.95</td>\n",
                            "      <td>2022-10-08</td>\n",
                            "    </tr>\n",
                            "  </tbody>\n",
                            "</table>\n",
                            "</div>"
                        ],
                        "text/plain": [
                            "       name id  height  average_height_parents  gender  number  height_m  \\\n",
                            "0  Stefanie  1     162                   161.5  female      42      1.62   \n",
                            "1     Peter  2     163                   163.5    male      42      1.63   \n",
                            "2  Stefanie  3     163                   163.2  female      42      1.63   \n",
                            "3   Manuela  4     164                   165.1  female      42      1.64   \n",
                            "4     Simon  5     164                   163.2    male      42      1.64   \n",
                            "\n",
                            "   weight    bmi        date  \n",
                            "0   84.58  32.23  2022-10-08  \n",
                            "1   70.57  26.56  2022-10-08  \n",
                            "2   75.48  28.41  2022-10-08  \n",
                            "3   75.46  28.06  2022-10-08  \n",
                            "4   83.24  30.95  2022-10-08  "
                        ]
                    },
                    "execution_count": 3,
                    "metadata": {},
                    "output_type": "execute_result"
                }
            ],
            "source": [
                "URL = \"https://raw.githubusercontent.com/kirenz/datasets/master/height_clean_cols.csv\"\n",
                "\n",
                "df = pd.read_csv(URL)\n",
                "df[\"gender\"] = df[\"gender\"].astype(\"category\")\n",
                "df['id'] = df['id'].astype(str)\n",
                "\n",
                "df.head()"
            ]
        },
        {
            "cell_type": "code",
            "execution_count": 4,
            "metadata": {},
            "outputs": [
                {
                    "name": "stdout",
                    "output_type": "stream",
                    "text": [
                        "<class 'pandas.core.frame.DataFrame'>\n",
                        "RangeIndex: 20 entries, 0 to 19\n",
                        "Data columns (total 10 columns):\n",
                        " #   Column                  Non-Null Count  Dtype   \n",
                        "---  ------                  --------------  -----   \n",
                        " 0   name                    20 non-null     object  \n",
                        " 1   id                      20 non-null     object  \n",
                        " 2   height                  20 non-null     int64   \n",
                        " 3   average_height_parents  20 non-null     float64 \n",
                        " 4   gender                  20 non-null     category\n",
                        " 5   number                  20 non-null     int64   \n",
                        " 6   height_m                20 non-null     float64 \n",
                        " 7   weight                  20 non-null     float64 \n",
                        " 8   bmi                     20 non-null     float64 \n",
                        " 9   date                    20 non-null     object  \n",
                        "dtypes: category(1), float64(4), int64(2), object(3)\n",
                        "memory usage: 1.7+ KB\n"
                    ]
                }
            ],
            "source": [
                "df.info()"
            ]
        },
        {
            "cell_type": "markdown",
            "metadata": {},
            "source": [
                "## Statistics"
            ]
        },
        {
            "cell_type": "markdown",
            "metadata": {},
            "source": [
                "### Numeric data"
            ]
        },
        {
            "cell_type": "markdown",
            "metadata": {},
            "source": [
                "- We can calculate simple statistics like mean, median, standard deviation etc."
            ]
        },
        {
            "cell_type": "code",
            "execution_count": 5,
            "metadata": {},
            "outputs": [
                {
                    "data": {
                        "text/plain": [
                            "165.0"
                        ]
                    },
                    "execution_count": 5,
                    "metadata": {},
                    "output_type": "execute_result"
                }
            ],
            "source": [
                "df['height'].mean()"
            ]
        },
        {
            "cell_type": "markdown",
            "metadata": {},
            "source": [
                "- Print the value in nice format ([using formatted string literals](https://docs.python.org/3.6/reference/lexical_analysis.html#formatted-string-literals) f\"...\") "
            ]
        },
        {
            "cell_type": "code",
            "execution_count": 6,
            "metadata": {},
            "outputs": [
                {
                    "name": "stdout",
                    "output_type": "stream",
                    "text": [
                        "The mean of height is 165.0\n"
                    ]
                }
            ],
            "source": [
                "print(f\"The mean of height is {df['height'].mean()}\")"
            ]
        },
        {
            "cell_type": "code",
            "execution_count": 7,
            "metadata": {},
            "outputs": [
                {
                    "data": {
                        "text/plain": [
                            "165.0"
                        ]
                    },
                    "execution_count": 7,
                    "metadata": {},
                    "output_type": "execute_result"
                }
            ],
            "source": [
                "df['height'].median()"
            ]
        },
        {
            "cell_type": "code",
            "execution_count": 8,
            "metadata": {},
            "outputs": [
                {
                    "data": {
                        "text/plain": [
                            "1.4867838833500564"
                        ]
                    },
                    "execution_count": 8,
                    "metadata": {},
                    "output_type": "execute_result"
                }
            ],
            "source": [
                "df['height'].std()"
            ]
        },
        {
            "cell_type": "code",
            "execution_count": 9,
            "metadata": {},
            "outputs": [
                {
                    "data": {
                        "text/plain": [
                            "1.49"
                        ]
                    },
                    "execution_count": 9,
                    "metadata": {},
                    "output_type": "execute_result"
                }
            ],
            "source": [
                "# round the value\n",
                "df['height'].std().round(2)"
            ]
        },
        {
            "cell_type": "markdown",
            "metadata": {},
            "source": [
                "- [describe()](https://pandas.pydata.org/docs/reference/api/pandas.DataFrame.describe.html#pandas.DataFrame.describe) shows a quick statistic summary of your numerical data.\n",
                "- We transpose the data (with `.T`) to make it more readable: "
            ]
        },
        {
            "cell_type": "code",
            "execution_count": 10,
            "metadata": {},
            "outputs": [
                {
                    "data": {
                        "text/html": [
                            "<div>\n",
                            "<style scoped>\n",
                            "    .dataframe tbody tr th:only-of-type {\n",
                            "        vertical-align: middle;\n",
                            "    }\n",
                            "\n",
                            "    .dataframe tbody tr th {\n",
                            "        vertical-align: top;\n",
                            "    }\n",
                            "\n",
                            "    .dataframe thead th {\n",
                            "        text-align: right;\n",
                            "    }\n",
                            "</style>\n",
                            "<table border=\"1\" class=\"dataframe\">\n",
                            "  <thead>\n",
                            "    <tr style=\"text-align: right;\">\n",
                            "      <th></th>\n",
                            "      <th>count</th>\n",
                            "      <th>mean</th>\n",
                            "      <th>std</th>\n",
                            "      <th>min</th>\n",
                            "      <th>25%</th>\n",
                            "      <th>50%</th>\n",
                            "      <th>75%</th>\n",
                            "      <th>max</th>\n",
                            "    </tr>\n",
                            "  </thead>\n",
                            "  <tbody>\n",
                            "    <tr>\n",
                            "      <th>height</th>\n",
                            "      <td>20.0</td>\n",
                            "      <td>165.00</td>\n",
                            "      <td>1.49</td>\n",
                            "      <td>162.00</td>\n",
                            "      <td>164.00</td>\n",
                            "      <td>165.00</td>\n",
                            "      <td>166.00</td>\n",
                            "      <td>168.00</td>\n",
                            "    </tr>\n",
                            "    <tr>\n",
                            "      <th>average_height_parents</th>\n",
                            "      <td>20.0</td>\n",
                            "      <td>165.35</td>\n",
                            "      <td>1.69</td>\n",
                            "      <td>161.50</td>\n",
                            "      <td>164.30</td>\n",
                            "      <td>165.35</td>\n",
                            "      <td>166.35</td>\n",
                            "      <td>168.50</td>\n",
                            "    </tr>\n",
                            "    <tr>\n",
                            "      <th>number</th>\n",
                            "      <td>20.0</td>\n",
                            "      <td>42.00</td>\n",
                            "      <td>0.00</td>\n",
                            "      <td>42.00</td>\n",
                            "      <td>42.00</td>\n",
                            "      <td>42.00</td>\n",
                            "      <td>42.00</td>\n",
                            "      <td>42.00</td>\n",
                            "    </tr>\n",
                            "    <tr>\n",
                            "      <th>height_m</th>\n",
                            "      <td>20.0</td>\n",
                            "      <td>1.65</td>\n",
                            "      <td>0.01</td>\n",
                            "      <td>1.62</td>\n",
                            "      <td>1.64</td>\n",
                            "      <td>1.65</td>\n",
                            "      <td>1.66</td>\n",
                            "      <td>1.68</td>\n",
                            "    </tr>\n",
                            "    <tr>\n",
                            "      <th>weight</th>\n",
                            "      <td>20.0</td>\n",
                            "      <td>74.13</td>\n",
                            "      <td>8.15</td>\n",
                            "      <td>58.06</td>\n",
                            "      <td>68.03</td>\n",
                            "      <td>75.60</td>\n",
                            "      <td>78.48</td>\n",
                            "      <td>88.07</td>\n",
                            "    </tr>\n",
                            "    <tr>\n",
                            "      <th>bmi</th>\n",
                            "      <td>20.0</td>\n",
                            "      <td>27.24</td>\n",
                            "      <td>3.10</td>\n",
                            "      <td>21.59</td>\n",
                            "      <td>24.99</td>\n",
                            "      <td>28.04</td>\n",
                            "      <td>28.58</td>\n",
                            "      <td>32.23</td>\n",
                            "    </tr>\n",
                            "  </tbody>\n",
                            "</table>\n",
                            "</div>"
                        ],
                        "text/plain": [
                            "                        count    mean   std     min     25%     50%     75%  \\\n",
                            "height                   20.0  165.00  1.49  162.00  164.00  165.00  166.00   \n",
                            "average_height_parents   20.0  165.35  1.69  161.50  164.30  165.35  166.35   \n",
                            "number                   20.0   42.00  0.00   42.00   42.00   42.00   42.00   \n",
                            "height_m                 20.0    1.65  0.01    1.62    1.64    1.65    1.66   \n",
                            "weight                   20.0   74.13  8.15   58.06   68.03   75.60   78.48   \n",
                            "bmi                      20.0   27.24  3.10   21.59   24.99   28.04   28.58   \n",
                            "\n",
                            "                           max  \n",
                            "height                  168.00  \n",
                            "average_height_parents  168.50  \n",
                            "number                   42.00  \n",
                            "height_m                  1.68  \n",
                            "weight                   88.07  \n",
                            "bmi                      32.23  "
                        ]
                    },
                    "execution_count": 10,
                    "metadata": {},
                    "output_type": "execute_result"
                }
            ],
            "source": [
                "df.describe().T.round(2)"
            ]
        },
        {
            "cell_type": "markdown",
            "metadata": {},
            "source": [
                "Summary statistics for numeric variables `height` and `bmi` for different levels of the categorical variable `gender`:"
            ]
        },
        {
            "cell_type": "code",
            "execution_count": 11,
            "metadata": {},
            "outputs": [
                {
                    "data": {
                        "text/html": [
                            "<div>\n",
                            "<style scoped>\n",
                            "    .dataframe tbody tr th:only-of-type {\n",
                            "        vertical-align: middle;\n",
                            "    }\n",
                            "\n",
                            "    .dataframe tbody tr th {\n",
                            "        vertical-align: top;\n",
                            "    }\n",
                            "\n",
                            "    .dataframe thead th {\n",
                            "        text-align: right;\n",
                            "    }\n",
                            "</style>\n",
                            "<table border=\"1\" class=\"dataframe\">\n",
                            "  <thead>\n",
                            "    <tr style=\"text-align: right;\">\n",
                            "      <th></th>\n",
                            "      <th>gender</th>\n",
                            "      <th>female</th>\n",
                            "      <th>male</th>\n",
                            "    </tr>\n",
                            "  </thead>\n",
                            "  <tbody>\n",
                            "    <tr>\n",
                            "      <th rowspan=\"8\" valign=\"top\">height</th>\n",
                            "      <th>count</th>\n",
                            "      <td>11.00</td>\n",
                            "      <td>9.00</td>\n",
                            "    </tr>\n",
                            "    <tr>\n",
                            "      <th>mean</th>\n",
                            "      <td>164.36</td>\n",
                            "      <td>165.78</td>\n",
                            "    </tr>\n",
                            "    <tr>\n",
                            "      <th>std</th>\n",
                            "      <td>1.12</td>\n",
                            "      <td>1.56</td>\n",
                            "    </tr>\n",
                            "    <tr>\n",
                            "      <th>min</th>\n",
                            "      <td>162.00</td>\n",
                            "      <td>163.00</td>\n",
                            "    </tr>\n",
                            "    <tr>\n",
                            "      <th>25%</th>\n",
                            "      <td>164.00</td>\n",
                            "      <td>165.00</td>\n",
                            "    </tr>\n",
                            "    <tr>\n",
                            "      <th>50%</th>\n",
                            "      <td>165.00</td>\n",
                            "      <td>166.00</td>\n",
                            "    </tr>\n",
                            "    <tr>\n",
                            "      <th>75%</th>\n",
                            "      <td>165.00</td>\n",
                            "      <td>167.00</td>\n",
                            "    </tr>\n",
                            "    <tr>\n",
                            "      <th>max</th>\n",
                            "      <td>166.00</td>\n",
                            "      <td>168.00</td>\n",
                            "    </tr>\n",
                            "    <tr>\n",
                            "      <th rowspan=\"8\" valign=\"top\">bmi</th>\n",
                            "      <th>count</th>\n",
                            "      <td>11.00</td>\n",
                            "      <td>9.00</td>\n",
                            "    </tr>\n",
                            "    <tr>\n",
                            "      <th>mean</th>\n",
                            "      <td>27.90</td>\n",
                            "      <td>26.45</td>\n",
                            "    </tr>\n",
                            "    <tr>\n",
                            "      <th>std</th>\n",
                            "      <td>2.76</td>\n",
                            "      <td>3.47</td>\n",
                            "    </tr>\n",
                            "    <tr>\n",
                            "      <th>min</th>\n",
                            "      <td>21.59</td>\n",
                            "      <td>22.51</td>\n",
                            "    </tr>\n",
                            "    <tr>\n",
                            "      <th>25%</th>\n",
                            "      <td>27.73</td>\n",
                            "      <td>22.92</td>\n",
                            "    </tr>\n",
                            "    <tr>\n",
                            "      <th>50%</th>\n",
                            "      <td>28.28</td>\n",
                            "      <td>26.56</td>\n",
                            "    </tr>\n",
                            "    <tr>\n",
                            "      <th>75%</th>\n",
                            "      <td>28.63</td>\n",
                            "      <td>28.07</td>\n",
                            "    </tr>\n",
                            "    <tr>\n",
                            "      <th>max</th>\n",
                            "      <td>32.23</td>\n",
                            "      <td>31.96</td>\n",
                            "    </tr>\n",
                            "  </tbody>\n",
                            "</table>\n",
                            "</div>"
                        ],
                        "text/plain": [
                            "gender        female    male\n",
                            "height count   11.00    9.00\n",
                            "       mean   164.36  165.78\n",
                            "       std      1.12    1.56\n",
                            "       min    162.00  163.00\n",
                            "       25%    164.00  165.00\n",
                            "       50%    165.00  166.00\n",
                            "       75%    165.00  167.00\n",
                            "       max    166.00  168.00\n",
                            "bmi    count   11.00    9.00\n",
                            "       mean    27.90   26.45\n",
                            "       std      2.76    3.47\n",
                            "       min     21.59   22.51\n",
                            "       25%     27.73   22.92\n",
                            "       50%     28.28   26.56\n",
                            "       75%     28.63   28.07\n",
                            "       max     32.23   31.96"
                        ]
                    },
                    "execution_count": 11,
                    "metadata": {},
                    "output_type": "execute_result"
                }
            ],
            "source": [
                "df[['height', 'bmi', 'gender']].groupby(['gender']).describe().round(2).T"
            ]
        },
        {
            "cell_type": "markdown",
            "metadata": {},
            "source": [
                "- Obtain summary statistics for `average_height_parents` grouped by the categorical variable `gender` and save the result as `stats`. Transpose the data."
            ]
        },
        {
            "cell_type": "markdown",
            "metadata": {},
            "source": [
                "Hint:\n",
                "    \n",
                "```python    \n",
                "stats = ___[['___', '___']].groupby(['___']).___().round(2).T\n",
                "````\n"
            ]
        },
        {
            "cell_type": "code",
            "execution_count": null,
            "metadata": {
                "deletable": false,
                "nbgrader": {
                    "cell_type": "code",
                    "checksum": "ebe8b838c1076af53fd99e6c0d8a4e5b",
                    "grade": false,
                    "grade_id": "stats",
                    "locked": false,
                    "schema_version": 3,
                    "solution": true,
                    "task": false
                }
            },
            "outputs": [],
            "source": [
                "stats = df[['average_height_parent', 'gender']].groupby(['gender']).describe().round(2).T"
            ]
        },
        {
            "cell_type": "code",
            "execution_count": null,
            "metadata": {
                "deletable": false,
                "editable": false,
                "nbgrader": {
                    "cell_type": "code",
                    "checksum": "4173da4829dae94ce616876905617c9e",
                    "grade": true,
                    "grade_id": "c_stats",
                    "locked": true,
                    "points": 2,
                    "schema_version": 3,
                    "solution": false,
                    "task": false
                }
            },
            "outputs": [],
            "source": [
                "\"\"\"Check if your code returns the correct output\"\"\"\n",
                "assert len(stats) == 8\n",
                "assert stats.columns.to_list() == ['female', 'male']"
            ]
        },
        {
            "cell_type": "markdown",
            "metadata": {},
            "source": [
                "### Categorical data"
            ]
        },
        {
            "cell_type": "markdown",
            "metadata": {},
            "source": [
                "- we can also use `describe()` for categorical data"
            ]
        },
        {
            "cell_type": "code",
            "execution_count": null,
            "metadata": {},
            "outputs": [],
            "source": [
                "df.describe(include=\"category\").T"
            ]
        },
        {
            "cell_type": "markdown",
            "metadata": {},
            "source": [
                "- Show unique levels of a categorical variable and count with `value_counts()`"
            ]
        },
        {
            "cell_type": "code",
            "execution_count": null,
            "metadata": {},
            "outputs": [],
            "source": [
                "df['gender'].value_counts()"
            ]
        },
        {
            "cell_type": "markdown",
            "metadata": {},
            "source": [
                "- We also \n",
                "can extract specific values"
            ]
        },
        {
            "cell_type": "code",
            "execution_count": null,
            "metadata": {},
            "outputs": [],
            "source": [
                "men = df['gender'].value_counts().male\n",
                "men"
            ]
        },
        {
            "cell_type": "markdown",
            "metadata": {},
            "source": [
                "- Print the value in nice format ([using formatted string literals](https://docs.python.org/3.6/reference/lexical_analysis.html#formatted-string-literals) f\"...\") "
            ]
        },
        {
            "cell_type": "code",
            "execution_count": null,
            "metadata": {},
            "outputs": [],
            "source": [
                "print(f\"There are {men} men in the data\")"
            ]
        },
        {
            "cell_type": "markdown",
            "metadata": {},
            "source": [
                "- Use the same method as above to calculate and print the value for women (create a variable called women)"
            ]
        },
        {
            "cell_type": "markdown",
            "metadata": {},
            "source": [
                "Hint:\n",
                "  \n",
                "\n",
                "```python\n",
                "___ = ___['___'].___().___\n",
                "print(___\"There are {___} women in the data\")\n",
                "```\n"
            ]
        },
        {
            "cell_type": "code",
            "execution_count": null,
            "metadata": {
                "deletable": false,
                "nbgrader": {
                    "cell_type": "code",
                    "checksum": "69fd4a53991cdee45d286d5462739d93",
                    "grade": true,
                    "grade_id": "cell-f7d1b37b640ff3d3",
                    "locked": false,
                    "points": 1,
                    "schema_version": 3,
                    "solution": true,
                    "task": false
                }
            },
            "outputs": [],
            "source": [
                "# YOUR CODE HERE\n",
                "raise NotImplementedError()"
            ]
        },
        {
            "cell_type": "code",
            "execution_count": null,
            "metadata": {},
            "outputs": [],
            "source": [
                "\"\"\"Check if your code returns the correct output\"\"\"\n",
                "assert women == 11"
            ]
        },
        {
            "cell_type": "markdown",
            "metadata": {},
            "source": [
                "### Loop over list"
            ]
        },
        {
            "cell_type": "code",
            "execution_count": null,
            "metadata": {},
            "outputs": [],
            "source": [
                "# make a list of numerical columns\n",
                "list_num = ['height', 'weight']"
            ]
        },
        {
            "cell_type": "code",
            "execution_count": null,
            "metadata": {},
            "outputs": [],
            "source": [
                "# calculate median for our list and only show 4 digits, then make a new line (\\n)\n",
                "for i in list_num:\n",
                "    print(f'Median of {i} equals {df[i].median():.4} \\n')"
            ]
        },
        {
            "cell_type": "code",
            "execution_count": null,
            "metadata": {},
            "outputs": [],
            "source": [
                "for i in list_num:\n",
                "    print(f'Column: {i}  \\n  {df[i].describe().T.round(2)}   \\n')   "
            ]
        },
        {
            "cell_type": "code",
            "execution_count": null,
            "metadata": {},
            "outputs": [],
            "source": [
                "# Pandas needs the module matplotlib to create plots\n",
                "import matplotlib.pyplot as plt\n",
                "\n",
                "# show plot output in Jupyter Notebook\n",
                "%matplotlib inline"
            ]
        },
        {
            "cell_type": "code",
            "execution_count": null,
            "metadata": {},
            "outputs": [],
            "source": [
                "df.boxplot(column=['weight']);\n"
            ]
        },
        {
            "cell_type": "code",
            "execution_count": null,
            "metadata": {},
            "outputs": [],
            "source": [
                "# obtain plots for our list\n",
                "for i in list_num:\n",
                "    df.boxplot(column=[i])\n",
                "    plt.title(\"Boxplot for \" + i)\n",
                "    plt.show()"
            ]
        }
    ],
    "metadata": {
        "interpreter": {
            "hash": "463226f144cc21b006ce6927bfc93dd00694e52c8bc6857abb6e555b983749e9"
        },
        "kernelspec": {
            "display_name": "Python 3 (ipykernel)",
            "language": "python",
            "name": "python3"
        },
        "language_info": {
            "codemirror_mode": {
                "name": "ipython",
                "version": 3
            },
            "file_extension": ".py",
            "mimetype": "text/x-python",
            "name": "python",
            "nbconvert_exporter": "python",
            "pygments_lexer": "ipython3",
            "version": "3.11.9"
        }
    },
    "nbformat": 4,
    "nbformat_minor": 2
}
