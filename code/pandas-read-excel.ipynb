{
    "cells": [
        {
            "cell_type": "markdown",
            "metadata": {},
            "source": [
                "# Import unclean Excel data\n",
                "\n",
                "\n",
                "## Data from GENESIS-Online\n",
                "\n",
                "![](/images/genesis.png)\n",
                "\n",
                "- [GENESIS-Online](https://www-genesis.destatis.de/genesis/online) is the main database of the Federal Statistical Office \n",
                "\n",
                "\n",
                "## GENESIS-Online\n",
                "\n",
                "- Contains deeply structured results of official statistics. \n",
                "\n",
                "- You can use the database without registration. \n",
                "\n",
                "- All data are available free of charge.\n",
                "\n",
                "- We use [this dataset](https://www-genesis.destatis.de/datenbank/beta/statistic/12211/table/12211-9014) as an example \n",
                "\n",
                "# Setup"
            ]
        },
        {
            "cell_type": "code",
            "metadata": {},
            "source": [
                "import pandas as pd"
            ],
            "execution_count": null,
            "outputs": []
        },
        {
            "cell_type": "markdown",
            "metadata": {},
            "source": [
                "# Data\n",
                "\n",
                "## First data import\n",
                "\n",
                "[Data source](https://www-genesis.destatis.de/datenbank/beta/statistic/12211/table/12211-9014)"
            ]
        },
        {
            "cell_type": "code",
            "metadata": {},
            "source": [
                "df_unclean = pd.read_excel('12211-9014_de.xlsx', sheet_name='12211-9014')"
            ],
            "execution_count": null,
            "outputs": []
        },
        {
            "cell_type": "markdown",
            "metadata": {},
            "source": [
                "\n",
                "\n",
                "- Take a look at the data"
            ]
        },
        {
            "cell_type": "code",
            "metadata": {
                "output-location": "slide"
            },
            "source": [
                "df_unclean"
            ],
            "execution_count": null,
            "outputs": []
        },
        {
            "cell_type": "markdown",
            "metadata": {},
            "source": [
                "## Inspect footer"
            ]
        },
        {
            "cell_type": "code",
            "metadata": {
                "output-location": "fragment"
            },
            "source": [
                "df_unclean.tail(25)"
            ],
            "execution_count": null,
            "outputs": []
        },
        {
            "cell_type": "markdown",
            "metadata": {},
            "source": [
                "## Adjusted data import"
            ]
        },
        {
            "cell_type": "code",
            "metadata": {},
            "source": [
                "df = pd.read_excel('12211-9014_de.xlsx', \n",
                "  sheet_name='12211-9014', \n",
                "  skiprows=[0,1,2,3], \n",
                "  skipfooter=20, \n",
                "  na_values='/', \n",
                "  thousands='.', \n",
                "  decimal=','\n",
                "  )"
            ],
            "execution_count": null,
            "outputs": []
        },
        {
            "cell_type": "markdown",
            "metadata": {},
            "source": [
                "## View data"
            ]
        },
        {
            "cell_type": "code",
            "metadata": {
                "output-location": "fragment"
            },
            "source": [
                "df.head()"
            ],
            "execution_count": null,
            "outputs": []
        },
        {
            "cell_type": "code",
            "metadata": {
                "output-location": "fragment"
            },
            "source": [
                "df.tail()"
            ],
            "execution_count": null,
            "outputs": []
        },
        {
            "cell_type": "markdown",
            "metadata": {},
            "source": [
                "## Rename columns"
            ]
        },
        {
            "cell_type": "code",
            "metadata": {
                "output-location": "fragment"
            },
            "source": [
                "df = df.rename(columns={\n",
                "  'Unnamed: 0': 'Jahr',\n",
                "  'Unnamed: 1': 'Geschlecht',\n",
                "  'Unnamed: 2': 'Bundesland' }\n",
                "  )\n",
                "\n",
                "df.head()"
            ],
            "execution_count": null,
            "outputs": []
        },
        {
            "cell_type": "markdown",
            "metadata": {},
            "source": [
                "## Fill up columns\n"
            ]
        },
        {
            "cell_type": "code",
            "metadata": {},
            "source": [
                "df['Jahr'] = 2019"
            ],
            "execution_count": null,
            "outputs": []
        },
        {
            "cell_type": "markdown",
            "metadata": {},
            "source": [
                ""
            ]
        },
        {
            "cell_type": "code",
            "metadata": {
                "output-location": "fragment"
            },
            "source": [
                "df['Geschlecht'] = df['Geschlecht'].fillna(method='ffill')\n",
                "\n",
                "df.head()"
            ],
            "execution_count": null,
            "outputs": []
        },
        {
            "cell_type": "markdown",
            "metadata": {},
            "source": [
                "## Data format"
            ]
        },
        {
            "cell_type": "code",
            "metadata": {
                "output-location": "fragment"
            },
            "source": [
                "df.info()"
            ],
            "execution_count": null,
            "outputs": []
        },
        {
            "cell_type": "markdown",
            "metadata": {},
            "source": [
                "## Convert categorical data\n"
            ]
        },
        {
            "cell_type": "code",
            "metadata": {
                "output-location": "fragment"
            },
            "source": [
                "LIST_CAT = df.columns[1:3].tolist()\n",
                "LIST_CAT"
            ],
            "execution_count": null,
            "outputs": []
        },
        {
            "cell_type": "markdown",
            "metadata": {},
            "source": [
                ""
            ]
        },
        {
            "cell_type": "code",
            "metadata": {},
            "source": [
                "for i in LIST_CAT:\n",
                "  df[i] = df[i].astype('category')"
            ],
            "execution_count": null,
            "outputs": []
        },
        {
            "cell_type": "markdown",
            "metadata": {},
            "source": [
                "## Convert numerical data"
            ]
        },
        {
            "cell_type": "code",
            "metadata": {},
            "source": [
                "LIST_INT = df.columns[3:].tolist()\n",
                "LIST_INT"
            ],
            "execution_count": null,
            "outputs": []
        },
        {
            "cell_type": "markdown",
            "metadata": {},
            "source": [
                ""
            ]
        },
        {
            "cell_type": "code",
            "metadata": {},
            "source": [
                "for i in LIST_INT:\n",
                "  df[i] = df[i].astype('Int64')"
            ],
            "execution_count": null,
            "outputs": []
        },
        {
            "cell_type": "markdown",
            "metadata": {},
            "source": [
                "## Take a look at the data\n"
            ]
        },
        {
            "cell_type": "code",
            "metadata": {
                "output-location": "fragment"
            },
            "source": [
                "df"
            ],
            "execution_count": null,
            "outputs": []
        },
        {
            "cell_type": "markdown",
            "metadata": {},
            "source": [
                "# Create new dataframe with subgroub\n",
                "\n",
                "## Create new dataframe\n",
                "\n",
                "- Let's assume we only want to keep the total number and don't need to differentiate between sex\n",
                "\n",
                ""
            ]
        },
        {
            "cell_type": "code",
            "metadata": {
                "output-location": "fragment"
            },
            "source": [
                "df_total = df[df['Geschlecht'] == 'Insgesamt']\n",
                "df_total.head()"
            ],
            "execution_count": null,
            "outputs": []
        },
        {
            "cell_type": "markdown",
            "metadata": {},
            "source": [
                "## Save new dataframe\n",
                "\n",
                "- We can drop the variable \"Geschlecht\"\n",
                "\n",
                ""
            ]
        },
        {
            "cell_type": "code",
            "metadata": {},
            "source": [
                "df_total = df_total.drop(columns=['Geschlecht'])"
            ],
            "execution_count": null,
            "outputs": []
        },
        {
            "cell_type": "markdown",
            "metadata": {},
            "source": [
                "- Save data\n",
                "\n",
                ""
            ]
        },
        {
            "cell_type": "code",
            "metadata": {},
            "source": [
                "df_total.to_excel('12211-9014_de_clean.xlsx', index=False)"
            ],
            "execution_count": null,
            "outputs": []
        }
    ],
    "metadata": {
        "kernelspec": {
            "name": "python3",
            "language": "python",
            "display_name": "Python 3 (ipykernel)"
        }
    },
    "nbformat": 4,
    "nbformat_minor": 4
}