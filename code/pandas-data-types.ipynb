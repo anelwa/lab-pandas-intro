{
    "cells": [
        {
            "cell_type": "markdown",
            "metadata": {},
            "source": [
                "# Setup"
            ]
        },
        {
            "cell_type": "code",
            "metadata": {},
            "source": [
                "from datetime import datetime\n",
                "import pandas as pd\n",
                "\n",
                "df = pd.DataFrame({\n",
                "    'name': [\"Tom\", \"Lisa\", \"Peter\"],\n",
                "    'height': [1.68, 1.93, 1.72],\n",
                "    'weight': [48.4, 89.8, 84.2],\n",
                "    'id': [1, 2, 3],\n",
                "    'city': ['Stuttgart', 'Stuttgart', 'Berlin']\n",
                "})"
            ],
            "execution_count": null,
            "outputs": []
        },
        {
            "cell_type": "markdown",
            "metadata": {},
            "source": [
                "# Basics\n",
                "\n",
                "## Data Types with .dtypes"
            ]
        },
        {
            "cell_type": "code",
            "metadata": {
                "output-location": "fragment"
            },
            "source": [
                "df.dtypes"
            ],
            "execution_count": null,
            "outputs": []
        },
        {
            "cell_type": "markdown",
            "metadata": {},
            "source": [
                "## Data Types with .info()"
            ]
        },
        {
            "cell_type": "code",
            "metadata": {
                "output-location": "fragment"
            },
            "source": [
                "df.info()"
            ],
            "execution_count": null,
            "outputs": []
        },
        {
            "cell_type": "markdown",
            "metadata": {},
            "source": [
                "# Change Data Types\n",
                "\n",
                "## Standard methods\n",
                "\n",
                "- There are several methods to [change data types in pandas](https://pandas.pydata.org/docs/reference/api/pandas.DataFrame.astype.html):\n",
                "\n",
                "- The most common method to change the data type is:\n",
                "\n",
                "- `.astype()`: Convert to a specific type (like \"`int32`\", \"`float`\" or \"`catgeory`\")\n",
                "\n",
                "- `.astype(str)`: Convert to string  \n",
                "  \n",
                "\n",
                "## More options\n",
                "  \n",
                "- `to_datetime`: Convert argument to datetime.\n",
                "- `to_timedelta`: Convert argument to timedelta.\n",
                "- `to_numeric`: Convert argument to a numeric type.\n",
                "\n",
                "\n",
                "# Categorical Data and Strings\n",
                "\n",
                "## What is categorical data?\n",
                "\n",
                "- Categoricals are a pandas data type corresponding to categorical variables in statistics. \n",
                "\n",
                "- A categorical variable takes on a limited, and usually fixed, number of possible values (categories). \n",
                "\n",
                "- Examples are gender, social class, blood type, country affiliation, observation time or rating via Likert scales.\n",
                "\n",
                "## Convert to categorical data\n",
                "\n",
                "\n",
                "- Convert variable \"name\" to a category dtype:\n",
                "\n",
                ""
            ]
        },
        {
            "cell_type": "code",
            "metadata": {},
            "source": [
                "df[\"name\"] = df[\"name\"].astype(\"category\")"
            ],
            "execution_count": null,
            "outputs": []
        },
        {
            "cell_type": "markdown",
            "metadata": {},
            "source": [
                ""
            ]
        },
        {
            "cell_type": "code",
            "metadata": {
                "output-location": "slide"
            },
            "source": [
                "df.info()"
            ],
            "execution_count": null,
            "outputs": []
        },
        {
            "cell_type": "markdown",
            "metadata": {},
            "source": [
                "## String data\n",
                "\n",
                "- In our example, `id` is not a number (we can't perform calculations with it)\n",
                "\n",
                "- It is just a unique identifier so we should transform it to a simple string (object)\n",
                "\n",
                ""
            ]
        },
        {
            "cell_type": "code",
            "metadata": {},
            "source": [
                "df['id'] = df['id'].astype(str)"
            ],
            "execution_count": null,
            "outputs": []
        },
        {
            "cell_type": "markdown",
            "metadata": {},
            "source": [
                ""
            ]
        },
        {
            "cell_type": "code",
            "metadata": {
                "output-location": "slide"
            },
            "source": [
                "df.info()"
            ],
            "execution_count": null,
            "outputs": []
        },
        {
            "cell_type": "markdown",
            "metadata": {},
            "source": [
                "# Add new columns\n",
                "\n",
                "## Add a constant number\n",
                "\n",
                "- Add a new variable called \"number\" to df \n",
                "\n",
                "- The new variable should have the number 42 in all rows\n",
                "\n",
                ""
            ]
        },
        {
            "cell_type": "code",
            "metadata": {},
            "source": [
                "df[\"number\"] = 42"
            ],
            "execution_count": null,
            "outputs": []
        },
        {
            "cell_type": "markdown",
            "metadata": {},
            "source": [
                ""
            ]
        },
        {
            "cell_type": "code",
            "metadata": {
                "output-location": "fragment"
            },
            "source": [
                "df.head()"
            ],
            "execution_count": null,
            "outputs": []
        },
        {
            "cell_type": "markdown",
            "metadata": {},
            "source": [
                "## Add from existing columns\n",
                "\n",
                " - Create new columns from existing columns\n",
                "\n",
                "\n"
            ]
        },
        {
            "cell_type": "code",
            "metadata": {},
            "source": [
                "# calculate body mass index\n",
                "df['bmi'] = round(df['weight'] / (df['height'] * df['height']), 2)"
            ],
            "execution_count": null,
            "outputs": []
        },
        {
            "cell_type": "markdown",
            "metadata": {},
            "source": [
                ""
            ]
        },
        {
            "cell_type": "code",
            "metadata": {
                "output-location": "fragment"
            },
            "source": [
                "df"
            ],
            "execution_count": null,
            "outputs": []
        },
        {
            "cell_type": "markdown",
            "metadata": {},
            "source": [
                "# Add Dates\n",
                "\n",
                "## Add a date with strftime\n",
                "\n",
                "- To add a date, we can use datetime and [strftime](https://strftime.org) (see code examples on the next slides):\n",
                "\n",
                ""
            ]
        },
        {
            "cell_type": "code",
            "metadata": {},
            "source": [
                "df[\"date\"] = datetime.today().strftime('%Y-%m-%d')"
            ],
            "execution_count": null,
            "outputs": []
        },
        {
            "cell_type": "markdown",
            "metadata": {},
            "source": [
                ""
            ]
        },
        {
            "cell_type": "code",
            "metadata": {
                "output-location": "fragment"
            },
            "source": [
                "df.head(3)"
            ],
            "execution_count": null,
            "outputs": []
        }
    ],
    "metadata": {
        "kernelspec": {
            "name": "python3",
            "language": "python",
            "display_name": "Python 3 (ipykernel)"
        }
    },
    "nbformat": 4,
    "nbformat_minor": 4
}