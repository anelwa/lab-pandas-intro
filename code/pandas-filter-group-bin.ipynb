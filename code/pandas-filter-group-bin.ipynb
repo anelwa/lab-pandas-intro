{
    "cells": [
        {
            "cell_type": "markdown",
            "metadata": {},
            "source": [
                "# Setup\n"
            ]
        },
        {
            "cell_type": "code",
            "metadata": {},
            "source": [
                "import pandas as pd\n",
                "\n",
                "df = pd.DataFrame({\n",
                "    'name': [\"Tom\", \"Lisa\", \"Peter\"],\n",
                "    'height': [1.68, 1.93, 1.72],\n",
                "    'weight': [48.4, 89.8, 84.2],\n",
                "    'id': [1, 2, 3],\n",
                "    'city': ['Stuttgart', 'Stuttgart', 'Berlin']\n",
                "})\n",
                "\n",
                "df['bmi'] = round(df['weight'] / (df['height'] * df['height']), 2)\n",
                "df[\"name\"] = df[\"name\"].astype(\"category\")\n",
                "df['id'] = df['id'].astype(str)"
            ],
            "execution_count": null,
            "outputs": []
        },
        {
            "cell_type": "markdown",
            "metadata": {},
            "source": [
                "# Filter \n",
                "\n",
                "\n",
                "## Filter example\n",
                "\n",
                "- Using a single column’s values to filter data (boolean indexing).\n",
                "\n",
                ""
            ]
        },
        {
            "cell_type": "code",
            "metadata": {
                "output-location": "fragment"
            },
            "source": [
                "df[df[\"height\"] >= 1.67]"
            ],
            "execution_count": null,
            "outputs": []
        },
        {
            "cell_type": "markdown",
            "metadata": {},
            "source": [
                "## Filter with AND\n",
                "\n",
                "\n",
                "- Combine filtering for two columns or more with `&` (AND)\n",
                "\n",
                ""
            ]
        },
        {
            "cell_type": "code",
            "metadata": {},
            "source": [
                "df[(df[\"height\"] >= 1.67) & (df[\"weight\"] < 74)]"
            ],
            "execution_count": null,
            "outputs": []
        },
        {
            "cell_type": "markdown",
            "metadata": {},
            "source": [
                "## Filter with OR\n",
                "\n",
                "\n",
                "- You can also combine filtering for two columns or more with `|` (OR)\n",
                "\n",
                ""
            ]
        },
        {
            "cell_type": "code",
            "metadata": {
                "output-location": "fragment"
            },
            "source": [
                "df[(df[\"height\"] >= 167) | (df[\"weight\"] < 74)]"
            ],
            "execution_count": null,
            "outputs": []
        },
        {
            "cell_type": "markdown",
            "metadata": {},
            "source": [
                "## isin()\n",
                "\n",
                "- Always use the [isin()](https://pandas.pydata.org/docs/reference/api/pandas.Series.isin.html#pandas.Series.isin) method if you have multiple conditions within one column:\n",
                "\n",
                ""
            ]
        },
        {
            "cell_type": "code",
            "metadata": {
                "output-location": "fragment"
            },
            "source": [
                "df[df[\"name\"].isin([\"Tom\", \"Steven\"])]"
            ],
            "execution_count": null,
            "outputs": []
        },
        {
            "cell_type": "markdown",
            "metadata": {},
            "source": [
                "# Grouping\n",
                "\n",
                "## Grouping steps\n",
                "\n",
                "- By “group by” we are referring to a process involving one or more of the following steps:\n",
                "\n",
                "- **Splitting** the data into groups based on some criteria\n",
                "\n",
                "- **Applying** a function to each group independently\n",
                "\n",
                "- **Combining** the results into a data structure\n",
                "\n",
                "## Grouping example with mean()\n",
                "\n",
                "- Grouping and then applying the `mean()` function to the resulting groups. Furthermore, we round the results and transpose the data.\n",
                "\n",
                ""
            ]
        },
        {
            "cell_type": "code",
            "metadata": {
                "output-location": "fragment"
            },
            "source": [
                "df.groupby(\"city\").mean(numeric_only=True).round(2).T"
            ],
            "execution_count": null,
            "outputs": []
        },
        {
            "cell_type": "markdown",
            "metadata": {},
            "source": [
                "# Segment Data: Bins\n",
                "\n",
                "## Segment data with cut()\n",
                "\n",
                "- Use the function [cut](https://pandas.pydata.org/docs/reference/api/pandas.cut.html) when you need to segment and sort data values into bins. \n",
                "\n",
                "- This function is also useful for going from a continuous variable to a categorical variable. \n",
                "\n",
                "## BMI table {.smaller}\n",
                "\n",
                "The standard weight status categories associated with BMI ranges for adults are shown in the following table:\n",
                "\n",
                "BMI\t| Weight Status\n",
                "---| ---\n",
                "Below 18.5 |\tUnderweight\n",
                "18.5 - 24.9 |\tNormal or Healthy Weight\n",
                "25.0 - 29.9 |\tOverweight\n",
                "30.0 and Above |\tObese\n",
                "\n",
                "Source: [U.S. Department of Health & Human Services](https://www.cdc.gov/healthyweight/assessing/bmi/adult_bmi/index.html)\n",
                "\n",
                "\n",
                "## BMI example 1\n",
                "\n",
                "\n",
                "- In our function, we discretize the variable `bmi` into four bins according to the table above:\n",
                "\n",
                "- The bins [0, 18.5, 25, 30, float('inf')] indicate (0,18.5], (18.5,25], (25,30], (30, float('inf))\n",
                "\n",
                "- `float('inf')` is used for setting  variable with an infinitely large value\n",
                "\n",
                "## BMI example code \n"
            ]
        },
        {
            "cell_type": "code",
            "metadata": {},
            "source": [
                "df['bmi_category'] = pd.cut(df['bmi'],\n",
                "                            bins=[0, 18.5, 25, 30, float('inf')],\n",
                "                            labels=['underweight', 'normal', 'overweight', \"obese\"])"
            ],
            "execution_count": null,
            "outputs": []
        },
        {
            "cell_type": "markdown",
            "metadata": {},
            "source": [
                "\n"
            ]
        },
        {
            "cell_type": "code",
            "metadata": {
                "output-location": "slide"
            },
            "source": [
                "df"
            ],
            "execution_count": null,
            "outputs": []
        },
        {
            "cell_type": "markdown",
            "metadata": {},
            "source": [
                "## BMI example with categories\n"
            ]
        },
        {
            "cell_type": "code",
            "metadata": {},
            "source": [
                "df['bmi_category']"
            ],
            "execution_count": null,
            "outputs": []
        },
        {
            "cell_type": "markdown",
            "metadata": {},
            "source": [
                "## Four equal-sized bins\n",
                "\n",
                "\n",
                "- Example of how to discretize into four equal-sized bins:\n",
                "\n",
                ""
            ]
        },
        {
            "cell_type": "code",
            "metadata": {},
            "source": [
                "df['bmi_category_2'] = pd.cut(df['bmi'],\n",
                "                              bins=4,\n",
                "                              labels=['group1', 'group2', 'group3', \"group4\"])"
            ],
            "execution_count": null,
            "outputs": []
        },
        {
            "cell_type": "markdown",
            "metadata": {},
            "source": [
                ""
            ]
        },
        {
            "cell_type": "code",
            "metadata": {
                "output-location": "fragment"
            },
            "source": [
                "df['bmi_category_2']"
            ],
            "execution_count": null,
            "outputs": []
        },
        {
            "cell_type": "markdown",
            "metadata": {},
            "source": [
                "## Four equal-sized bins without labels\n",
                "\n",
                "\n",
                "- Example of how to discretize into four equal-sized bins if you don't need labels\n",
                "\n",
                ""
            ]
        },
        {
            "cell_type": "code",
            "metadata": {},
            "source": [
                "df['bmi_category_3'] = pd.cut(df['bmi'],\n",
                "                              bins=4,\n",
                "                              labels=False)"
            ],
            "execution_count": null,
            "outputs": []
        },
        {
            "cell_type": "markdown",
            "metadata": {},
            "source": [
                ""
            ]
        },
        {
            "cell_type": "code",
            "metadata": {
                "output-location": "fragment"
            },
            "source": [
                "df['bmi_category_3']"
            ],
            "execution_count": null,
            "outputs": []
        }
    ],
    "metadata": {
        "kernelspec": {
            "name": "python3",
            "language": "python",
            "display_name": "Python 3 (ipykernel)"
        }
    },
    "nbformat": 4,
    "nbformat_minor": 4
}