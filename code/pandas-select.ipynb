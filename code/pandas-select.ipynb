{
    "cells": [
        {
            "cell_type": "markdown",
            "metadata": {},
            "source": [
                "# Setup"
            ]
        },
        {
            "cell_type": "code",
            "metadata": {},
            "source": [
                "import pandas as pd\n",
                "\n",
                "df = pd.DataFrame({\n",
                "    'name': [\"Tom\", \"Lisa\", \"Peter\"],\n",
                "    'height': [1.68, 1.93, 1.72],\n",
                "    'weight': [48.4, 89.8, 84.2],\n",
                "    'id': [1, 2, 3],\n",
                "    'city': ['Stuttgart', 'Stuttgart', 'Berlin']\n",
                "})\n",
                "\n",
                "df['bmi'] = round(df['weight'] / (df['height'] * df['height']), 2)\n",
                "df[\"name\"] = df[\"name\"].astype(\"category\")\n",
                "df['id'] = df['id'].astype(str)"
            ],
            "execution_count": null,
            "outputs": []
        },
        {
            "cell_type": "markdown",
            "metadata": {},
            "source": [
                "# Select with []\n",
                "\n",
                "## Getting columns with [[]]\n",
                "\n",
                "- Selecting a single column with `[[]]`:\n",
                "\n",
                "- Select the column `city` and save it as a new Pandas dataframe `df_city`\n",
                "\n",
                ""
            ]
        },
        {
            "cell_type": "code",
            "metadata": {},
            "source": [
                "df_city = df[[\"city\"]]"
            ],
            "execution_count": null,
            "outputs": []
        },
        {
            "cell_type": "markdown",
            "metadata": {},
            "source": [
                ""
            ]
        },
        {
            "cell_type": "code",
            "metadata": {
                "output-location": "fragment"
            },
            "source": [
                "df_city"
            ],
            "execution_count": null,
            "outputs": []
        },
        {
            "cell_type": "markdown",
            "metadata": {},
            "source": [
                "## Selecting rows with []\n",
                "\n",
                "\n",
                "- Selecting via `[]` slices the rows (endpoint is not included) and includes all columns:"
            ]
        },
        {
            "cell_type": "code",
            "metadata": {
                "output-location": "fragment"
            },
            "source": [
                "df[0:2]"
            ],
            "execution_count": null,
            "outputs": []
        },
        {
            "cell_type": "markdown",
            "metadata": {},
            "source": [
                "# Getting data with loc\n",
                "\n",
                "\n",
                "The `.loc` (location) attribute is the primary access method. \n",
                "\n",
                "\n",
                "## Only the first row\n"
            ]
        },
        {
            "cell_type": "code",
            "metadata": {
                "output-location": "fragment"
            },
            "source": [
                "df.loc[[0]]"
            ],
            "execution_count": null,
            "outputs": []
        },
        {
            "cell_type": "markdown",
            "metadata": {},
            "source": [
                "## One row and one column \n",
                "\n",
                "- Only select location at row 0 for column \"name\"\n",
                "\n",
                ""
            ]
        },
        {
            "cell_type": "code",
            "metadata": {
                "output-location": "fragment"
            },
            "source": [
                "df.loc[0, 'name']"
            ],
            "execution_count": null,
            "outputs": []
        },
        {
            "cell_type": "markdown",
            "metadata": {},
            "source": [
                "## Multiple rows and one column\n",
                "\n",
                "- Select row 2 to 4 for column \"name\" (when using .loc endpoints are included)\n",
                "\n",
                ""
            ]
        },
        {
            "cell_type": "code",
            "metadata": {
                "output-location": "fragment"
            },
            "source": [
                "df.loc[2:4, 'name']"
            ],
            "execution_count": null,
            "outputs": []
        },
        {
            "cell_type": "markdown",
            "metadata": {},
            "source": [
                "## Multiple rows and multiple columns\n",
                "\n",
                "- Select row 2 to 4 for columns \"name\" and \"height\" (when using .loc endpoints are included)\n",
                "\n",
                ""
            ]
        },
        {
            "cell_type": "code",
            "metadata": {
                "output-location": "fragment"
            },
            "source": [
                "df.loc[2:4, ['name', 'height']]"
            ],
            "execution_count": null,
            "outputs": []
        },
        {
            "cell_type": "markdown",
            "metadata": {},
            "source": [
                "## All rows and multiple columns\n",
                "\n",
                "- Select all rows for name and height\n",
                "\n",
                ""
            ]
        },
        {
            "cell_type": "code",
            "metadata": {
                "output-location": "fragment"
            },
            "source": [
                "df.loc[:, [\"name\", \"height\"]]"
            ],
            "execution_count": null,
            "outputs": []
        },
        {
            "cell_type": "markdown",
            "metadata": {},
            "source": [
                "## Scalar value"
            ]
        },
        {
            "cell_type": "code",
            "metadata": {},
            "source": [
                "df.loc[[0], \"height\"]"
            ],
            "execution_count": null,
            "outputs": []
        },
        {
            "cell_type": "markdown",
            "metadata": {},
            "source": [
                "# Integer based indexing: .iloc\n",
                "\n",
                "## Basics {.smaller}\n",
                "\n",
                "- Pandas provides a suite of methods in order to get purely integer based indexing. \n",
                "\n",
                "- Here, the `.iloc` attribute is the primary access method. \n",
                "\n",
                ""
            ]
        },
        {
            "cell_type": "code",
            "metadata": {
                "output-location": "fragment"
            },
            "source": [
                "df.iloc[0]"
            ],
            "execution_count": null,
            "outputs": []
        },
        {
            "cell_type": "markdown",
            "metadata": {},
            "source": [
                "## Multiple rows and columns\n",
                "\n",
                "- *When using `.iloc`, endpoints are not included.*\n",
                "\n",
                ""
            ]
        },
        {
            "cell_type": "code",
            "metadata": {
                "output-location": "fragment"
            },
            "source": [
                "df.iloc[0:2, 0:2]"
            ],
            "execution_count": null,
            "outputs": []
        },
        {
            "cell_type": "markdown",
            "metadata": {},
            "source": [
                "## Lists of integer position locations"
            ]
        },
        {
            "cell_type": "code",
            "metadata": {
                "output-location": "fragment"
            },
            "source": [
                "df.iloc[[0, 2], [0, 1]]"
            ],
            "execution_count": null,
            "outputs": []
        },
        {
            "cell_type": "markdown",
            "metadata": {},
            "source": [
                "## Slicing rows explicitly"
            ]
        },
        {
            "cell_type": "code",
            "metadata": {
                "output-location": "fragment"
            },
            "source": [
                "df.iloc[1:3, :]"
            ],
            "execution_count": null,
            "outputs": []
        },
        {
            "cell_type": "markdown",
            "metadata": {},
            "source": [
                "## Slicing columns explicitly"
            ]
        },
        {
            "cell_type": "code",
            "metadata": {
                "output-location": "fragment"
            },
            "source": [
                "df.iloc[:, 1:3]"
            ],
            "execution_count": null,
            "outputs": []
        },
        {
            "cell_type": "markdown",
            "metadata": {},
            "source": [
                "## Getting a value explicitly"
            ]
        },
        {
            "cell_type": "code",
            "metadata": {},
            "source": [
                "df.iloc[0, 0]"
            ],
            "execution_count": null,
            "outputs": []
        }
    ],
    "metadata": {
        "kernelspec": {
            "name": "python3",
            "language": "python",
            "display_name": "Python 3 (ipykernel)"
        }
    },
    "nbformat": 4,
    "nbformat_minor": 4
}