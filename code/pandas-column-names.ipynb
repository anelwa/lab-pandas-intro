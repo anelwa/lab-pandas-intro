{
    "cells": [
        {
            "cell_type": "markdown",
            "metadata": {},
            "source": [
                "# Setup"
            ]
        },
        {
            "cell_type": "code",
            "metadata": {},
            "source": [
                "import pandas as pd\n",
                "\n",
                "df = pd.DataFrame({\n",
                "    'name': [\"Tom\", \"Lisa\", \"Peter\"],\n",
                "    'height': [1.68, 1.93, 1.72],\n",
                "    'weight': [48.4, 89.8, 84.2],\n",
                "    'id': [1, 2, 3],\n",
                "    'city': ['Stuttgart', 'Stuttgart', 'Berlin']\n",
                "})"
            ],
            "execution_count": null,
            "outputs": []
        },
        {
            "cell_type": "markdown",
            "metadata": {},
            "source": [
                "# Basics\n",
                "\n",
                "## Column names properties\n",
                "\n",
                "Usually, we prefer to work with columns that have the following proporties:\n",
                "\n",
                "\n",
                "- no leading or trailing whitespace (`\"name\"` instead of `\" name \"`, `\" name\"` or `\"name \"`)\n",
                "\n",
                "\n",
                "- all lowercase (`\"name\"` instead of `\"Name\"`)\n",
                "\n",
                "\n",
                "- no white spaces (`\"my_name\"` instead of `\"my name\"`)\n",
                "\n",
                "# Simple rename\n",
                "\n",
                "- First, we rename columns by simply using a mapping\n",
                "- We rename `\"name\"` to `\" MY NEW-NAME\"` (note that we include a leading whitespace)\n",
                "\n",
                ""
            ]
        },
        {
            "cell_type": "code",
            "metadata": {},
            "source": [
                "df = df.rename(columns={\"name\": \" MY NEW-NAME\"}, errors=\"raise\")"
            ],
            "execution_count": null,
            "outputs": []
        },
        {
            "cell_type": "markdown",
            "metadata": {},
            "source": [
                "## Simple rename\n"
            ]
        },
        {
            "cell_type": "code",
            "metadata": {
                "output-location": "fragment"
            },
            "source": [
                "df.head()"
            ],
            "execution_count": null,
            "outputs": []
        },
        {
            "cell_type": "markdown",
            "metadata": {},
            "source": [
                ""
            ]
        },
        {
            "cell_type": "code",
            "metadata": {
                "output-location": "fragment"
            },
            "source": [
                "df.columns"
            ],
            "execution_count": null,
            "outputs": []
        },
        {
            "cell_type": "markdown",
            "metadata": {},
            "source": [
                "# Regular expressions\n",
                "\n",
                "## Trailing and leading spaces (with regex)\n",
                "\n",
                "- We use regular expressions to deal with whitespaces\n",
                "\n",
                "- To change multiple column names in `df` at once, we use the method `df.columns = df.columns.str.replace()` \n",
                "\n",
                "- To replace the spaces, we use `.replace()` with `regex=True`\n",
                "\n",
                "\n",
                "## Regular expressions table\n",
                "\n",
                "Explanation for *regex* (see also [Stackoverflow](https://stackoverflow.com/a/67466222)):\n",
                "\n",
                "- we start with `r` (for raw) which tells Python to treat all following input as raw text (without interpreting it)\n",
                "- \"`^`\": is line start\n",
                "- \" \": is a white space\n",
                "- \"`+`\": some following characters\n",
                "- \"`|`\": is or\n",
                "- \"`$`\": is line end\n",
                "- \"\": is an empty string \n",
                "\n",
                "## Learn more about regular expressions\n",
                "\n",
                "To learn more about regular expressions (\"regex\"), visit the following sites:\n",
                "\n",
                "- [regular expression basics](https://www.w3schools.com/python/python_regex.asp).\n",
                "- [interactive regular expressions tool](https://regex101.com/)\n",
                "\n",
                "## Trailing and leading spaces (with regex)\n",
                "\n",
                "- In the following function, we search for leading spaces and replace them with an empty string:\n",
                "\n",
                ""
            ]
        },
        {
            "cell_type": "code",
            "metadata": {
                "output-location": "fragment"
            },
            "source": [
                "df.columns = df.columns.str.replace(r\"^ \", r\"\", regex=True)"
            ],
            "execution_count": null,
            "outputs": []
        },
        {
            "cell_type": "markdown",
            "metadata": {},
            "source": [
                "\n"
            ]
        },
        {
            "cell_type": "code",
            "metadata": {
                "output-location": "fragment"
            },
            "source": [
                "df.columns"
            ],
            "execution_count": null,
            "outputs": []
        },
        {
            "cell_type": "markdown",
            "metadata": {},
            "source": [
                "# Replace special characters with REGEX\n",
                "\n",
                "## Replace special characters\n",
                "\n",
                "\n",
                "- Again, we use regular expressions to deal with special characters (like `-`, `%`, `&`, `$` etc.)\n",
                "\n",
                "- Replace \"`-`\" with \"`_`\"\n",
                "\n",
                ""
            ]
        },
        {
            "cell_type": "code",
            "metadata": {
                "output-location": "fragment"
            },
            "source": [
                "df.columns = df.columns.str.replace(r\"-\", r\"_\", regex=True)"
            ],
            "execution_count": null,
            "outputs": []
        },
        {
            "cell_type": "markdown",
            "metadata": {},
            "source": [
                ""
            ]
        },
        {
            "cell_type": "code",
            "metadata": {
                "output-location": "fragment"
            },
            "source": [
                "df.columns"
            ],
            "execution_count": null,
            "outputs": []
        },
        {
            "cell_type": "markdown",
            "metadata": {},
            "source": [
                "# Lowercase and whitespace\n",
                "\n",
                "## Lowercase and whitespace\n",
                "\n",
                "\n",
                "- We can use two simple methods to convert all columns to lowercase and replace white spaces with underscores (\"_\"):\n",
                "\n",
                "- `.str.lower()`\n",
                "\n",
                "\n",
                "- `.str.replace(' ', '_')`\n",
                "\n",
                ""
            ]
        },
        {
            "cell_type": "code",
            "metadata": {
                "output-location": "fragment"
            },
            "source": [
                "df.columns = df.columns.str.lower().str.replace(' ', '_')"
            ],
            "execution_count": null,
            "outputs": []
        },
        {
            "cell_type": "markdown",
            "metadata": {},
            "source": [
                ""
            ]
        },
        {
            "cell_type": "code",
            "metadata": {
                "output-location": "fragment"
            },
            "source": [
                "df.columns"
            ],
            "execution_count": null,
            "outputs": []
        }
    ],
    "metadata": {
        "kernelspec": {
            "name": "python3",
            "language": "python",
            "display_name": "Python 3 (ipykernel)"
        }
    },
    "nbformat": 4,
    "nbformat_minor": 4
}