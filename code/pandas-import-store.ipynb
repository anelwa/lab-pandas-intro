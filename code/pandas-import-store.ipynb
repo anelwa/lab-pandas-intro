{
    "cells": [
        {
            "cell_type": "markdown",
            "metadata": {},
            "source": [
                "# Import pandas\n",
                "\n",
                "- To load the pandas package and start working with it, import the package. \n",
                "\n",
                "- The community agreed alias for pandas is `pd`\n",
                "\n",
                ""
            ]
        },
        {
            "cell_type": "code",
            "metadata": {},
            "source": [
                "import pandas as pd"
            ],
            "execution_count": null,
            "outputs": []
        },
        {
            "cell_type": "markdown",
            "metadata": {},
            "source": [
                "# Create Data\n",
                "\n",
                "## Create a DataFrame\n",
                "\n",
                "- To manually store data in a table, create a DataFrame:"
            ]
        },
        {
            "cell_type": "code",
            "metadata": {},
            "source": [
                "df = pd.DataFrame({\n",
                "    'name': [\"Tom\", \"Lisa\", \"Peter\"],\n",
                "    'height': [1.68, 1.93, 1.72],\n",
                "    'weight': [48.4, 89.8, 84.2],\n",
                "    'id': [1, 2, 3],\n",
                "    'city': ['Stuttgart', 'Stuttgart', 'Berlin']\n",
                "})"
            ],
            "execution_count": null,
            "outputs": []
        },
        {
            "cell_type": "markdown",
            "metadata": {},
            "source": [
                "## Show data with head()"
            ]
        },
        {
            "cell_type": "code",
            "metadata": {
                "output-location": "fragment"
            },
            "source": [
                "df.head()"
            ],
            "execution_count": null,
            "outputs": []
        },
        {
            "cell_type": "markdown",
            "metadata": {},
            "source": [
                "# Import data with .read()\n",
                "\n",
                "- Import data with the prefix `.read_*`\n",
                "\n",
                "![](https://pandas.pydata.org/docs/_images/02_io_readwrite.svg)\n",
                "\n",
                "\n",
                "## Import data from GitHub\n",
                "\n",
                "- Import a CSV file in a GitHub repo \n",
                "\n",
                ""
            ]
        },
        {
            "cell_type": "code",
            "metadata": {
                "output-location": "fragment"
            },
            "source": [
                "#| code-line-numbers: '|1|3|5|'\n",
                "URL = \"https://raw.githubusercontent.com/kirenz/datasets/master/campaign.csv\"\n",
                "\n",
                "df_github = pd.read_csv(URL, sep=\",\", decimal='.')\n",
                "\n",
                "df_github.head()"
            ],
            "execution_count": null,
            "outputs": []
        },
        {
            "cell_type": "markdown",
            "metadata": {},
            "source": [
                "# Store data with .to()\n",
                "\n",
                "- Store data with the prefix `.to_*`\n",
                "\n",
                ""
            ]
        },
        {
            "cell_type": "code",
            "metadata": {},
            "source": [
                "df_github.to_csv(\"data.csv\", index=False)"
            ],
            "execution_count": null,
            "outputs": []
        },
        {
            "cell_type": "markdown",
            "metadata": {},
            "source": [
                "- By setting `index=False` the row index labels are not saved in the spreadsheet\n",
                "\n",
                "# Viewing data\n",
                "\n",
                "## Data overview "
            ]
        },
        {
            "cell_type": "code",
            "metadata": {
                "output-location": "fragment"
            },
            "source": [
                "df"
            ],
            "execution_count": null,
            "outputs": []
        },
        {
            "cell_type": "markdown",
            "metadata": {},
            "source": [
                "## Head and tail"
            ]
        },
        {
            "cell_type": "code",
            "metadata": {
                "output-location": "fragment"
            },
            "source": [
                "# show first 2 rows\n",
                "df.head(2)"
            ],
            "execution_count": null,
            "outputs": []
        },
        {
            "cell_type": "markdown",
            "metadata": {},
            "source": [
                ""
            ]
        },
        {
            "cell_type": "code",
            "metadata": {
                "output-location": "fragment"
            },
            "source": [
                "# show last 2 rows\n",
                "df.tail(2)"
            ],
            "execution_count": null,
            "outputs": []
        },
        {
            "cell_type": "markdown",
            "metadata": {},
            "source": [
                "## Info\n",
                "\n",
                "- The `info()` method prints information about a DataFrame.\n",
                "\n",
                ""
            ]
        },
        {
            "cell_type": "code",
            "metadata": {
                "output-location": "fragment"
            },
            "source": [
                "df.info()"
            ],
            "execution_count": null,
            "outputs": []
        },
        {
            "cell_type": "markdown",
            "metadata": {},
            "source": [
                "## Show column names"
            ]
        },
        {
            "cell_type": "code",
            "metadata": {
                "output-location": "fragment"
            },
            "source": [
                "df.columns"
            ],
            "execution_count": null,
            "outputs": []
        },
        {
            "cell_type": "markdown",
            "metadata": {},
            "source": [
                "## Show data types\n",
                "\n",
                "- Show data types ([dtypes](https://pandas.pydata.org/docs/user_guide/basics.html#basics-dtypes)).\n",
                "\n",
                ""
            ]
        },
        {
            "cell_type": "code",
            "metadata": {
                "output-location": "fragment"
            },
            "source": [
                "df.dtypes"
            ],
            "execution_count": null,
            "outputs": []
        },
        {
            "cell_type": "markdown",
            "metadata": {},
            "source": [
                "- The data types in this DataFrame are integers (int64), floats (float64) and strings (object).\n",
                "\n",
                "## Show index"
            ]
        },
        {
            "cell_type": "code",
            "metadata": {
                "output-location": "fragment"
            },
            "source": [
                "df.index"
            ],
            "execution_count": null,
            "outputs": []
        }
    ],
    "metadata": {
        "kernelspec": {
            "name": "python3",
            "language": "python",
            "display_name": "Python 3 (ipykernel)"
        }
    },
    "nbformat": 4,
    "nbformat_minor": 4
}