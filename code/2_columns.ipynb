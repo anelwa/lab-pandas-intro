{
    "cells": [
        {
            "attachments": {},
            "cell_type": "markdown",
            "metadata": {},
            "source": [
                "**Wichtige Hinweise**\n",
                "\n",
                "- Aktivieren Sie die entsprechende Conda-Umgebung bevor Sie beginnen.\n",
                "\n",
                "- Geben Sie als `NAME` ihr HdM-Kürzel an.\n",
                "\n",
                "- Ändern Sie **nicht** den Namen der Datei und löschen Sie keine Zellen.\n",
                "\n",
                "- Bearbeiten Sie alle Zellen mit dem Hinweis <font color='green'> \\# YOUR CODE HERE </font> \n",
                "\n",
                "- Die Funktion **NotImplementedError()** soll die Abgabe von leeren Zellen verhindern. Löschen Sie die Funktion, sobald Sie in einer dieser Zellen arbeiten. \n",
                "\n",
                "- Stellen Sie sicher, dass alles wie erwartet läuft, bevor Sie die Prüfung abgeben: Starten Sie den Kernel neu und führen Sie alle Zellen aus: wählen Sie \"Restart\" und dann \"Run All\" "
            ]
        },
        {
            "cell_type": "code",
            "execution_count": null,
            "metadata": {},
            "outputs": [],
            "source": [
                "NAME = \"\""
            ]
        },
        {
            "cell_type": "code",
            "execution_count": null,
            "metadata": {},
            "outputs": [],
            "source": [
                "import IPython\n",
                "assert IPython.version_info[0] >= 3, \"Your version of IPython is too old, please update it.\""
            ]
        },
        {
            "cell_type": "markdown",
            "metadata": {},
            "source": [
                "---"
            ]
        },
        {
            "cell_type": "markdown",
            "metadata": {},
            "source": [
                "# Change column names"
            ]
        },
        {
            "cell_type": "markdown",
            "metadata": {},
            "source": [
                "## Import pandas\n",
                "\n",
                "- To load the pandas package and start working with it, import the package. \n",
                "\n",
                "\n",
                "- The community agreed alias for pandas is `pd`, so loading pandas as pd is assumed standard practice for all of the pandas documentation:"
            ]
        },
        {
            "cell_type": "code",
            "execution_count": 1,
            "metadata": {},
            "outputs": [],
            "source": [
                "import pandas as pd"
            ]
        },
        {
            "cell_type": "markdown",
            "metadata": {},
            "source": [
                "## Import data"
            ]
        },
        {
            "cell_type": "code",
            "execution_count": 10,
            "metadata": {},
            "outputs": [
                {
                    "data": {
                        "text/html": [
                            "<div>\n",
                            "<style scoped>\n",
                            "    .dataframe tbody tr th:only-of-type {\n",
                            "        vertical-align: middle;\n",
                            "    }\n",
                            "\n",
                            "    .dataframe tbody tr th {\n",
                            "        vertical-align: top;\n",
                            "    }\n",
                            "\n",
                            "    .dataframe thead th {\n",
                            "        text-align: right;\n",
                            "    }\n",
                            "</style>\n",
                            "<table border=\"1\" class=\"dataframe\">\n",
                            "  <thead>\n",
                            "    <tr style=\"text-align: right;\">\n",
                            "      <th></th>\n",
                            "      <th>Name</th>\n",
                            "      <th>ID%</th>\n",
                            "      <th>Height</th>\n",
                            "      <th>Average Height Parents</th>\n",
                            "      <th>Gender</th>\n",
                            "    </tr>\n",
                            "  </thead>\n",
                            "  <tbody>\n",
                            "    <tr>\n",
                            "      <th>0</th>\n",
                            "      <td>Stefanie</td>\n",
                            "      <td>1</td>\n",
                            "      <td>162</td>\n",
                            "      <td>161.5</td>\n",
                            "      <td>female</td>\n",
                            "    </tr>\n",
                            "    <tr>\n",
                            "      <th>1</th>\n",
                            "      <td>Peter</td>\n",
                            "      <td>2</td>\n",
                            "      <td>163</td>\n",
                            "      <td>163.5</td>\n",
                            "      <td>male</td>\n",
                            "    </tr>\n",
                            "    <tr>\n",
                            "      <th>2</th>\n",
                            "      <td>Stefanie</td>\n",
                            "      <td>3</td>\n",
                            "      <td>163</td>\n",
                            "      <td>163.2</td>\n",
                            "      <td>female</td>\n",
                            "    </tr>\n",
                            "    <tr>\n",
                            "      <th>3</th>\n",
                            "      <td>Manuela</td>\n",
                            "      <td>4</td>\n",
                            "      <td>164</td>\n",
                            "      <td>165.1</td>\n",
                            "      <td>female</td>\n",
                            "    </tr>\n",
                            "    <tr>\n",
                            "      <th>4</th>\n",
                            "      <td>Simon</td>\n",
                            "      <td>5</td>\n",
                            "      <td>164</td>\n",
                            "      <td>163.2</td>\n",
                            "      <td>male</td>\n",
                            "    </tr>\n",
                            "    <tr>\n",
                            "      <th>5</th>\n",
                            "      <td>Sophia</td>\n",
                            "      <td>6</td>\n",
                            "      <td>164</td>\n",
                            "      <td>164.4</td>\n",
                            "      <td>female</td>\n",
                            "    </tr>\n",
                            "    <tr>\n",
                            "      <th>6</th>\n",
                            "      <td>Ellen</td>\n",
                            "      <td>7</td>\n",
                            "      <td>164</td>\n",
                            "      <td>164.0</td>\n",
                            "      <td>female</td>\n",
                            "    </tr>\n",
                            "    <tr>\n",
                            "      <th>7</th>\n",
                            "      <td>Emilia</td>\n",
                            "      <td>8</td>\n",
                            "      <td>165</td>\n",
                            "      <td>165.2</td>\n",
                            "      <td>female</td>\n",
                            "    </tr>\n",
                            "    <tr>\n",
                            "      <th>8</th>\n",
                            "      <td>Lina</td>\n",
                            "      <td>9</td>\n",
                            "      <td>165</td>\n",
                            "      <td>165.2</td>\n",
                            "      <td>female</td>\n",
                            "    </tr>\n",
                            "    <tr>\n",
                            "      <th>9</th>\n",
                            "      <td>Marie</td>\n",
                            "      <td>10</td>\n",
                            "      <td>165</td>\n",
                            "      <td>165.1</td>\n",
                            "      <td>female</td>\n",
                            "    </tr>\n",
                            "    <tr>\n",
                            "      <th>10</th>\n",
                            "      <td>Lena</td>\n",
                            "      <td>11</td>\n",
                            "      <td>165</td>\n",
                            "      <td>166.3</td>\n",
                            "      <td>female</td>\n",
                            "    </tr>\n",
                            "    <tr>\n",
                            "      <th>11</th>\n",
                            "      <td>Mila</td>\n",
                            "      <td>12</td>\n",
                            "      <td>165</td>\n",
                            "      <td>167.4</td>\n",
                            "      <td>female</td>\n",
                            "    </tr>\n",
                            "    <tr>\n",
                            "      <th>12</th>\n",
                            "      <td>Fin</td>\n",
                            "      <td>13</td>\n",
                            "      <td>165</td>\n",
                            "      <td>165.5</td>\n",
                            "      <td>male</td>\n",
                            "    </tr>\n",
                            "    <tr>\n",
                            "      <th>13</th>\n",
                            "      <td>Eric</td>\n",
                            "      <td>14</td>\n",
                            "      <td>166</td>\n",
                            "      <td>166.2</td>\n",
                            "      <td>male</td>\n",
                            "    </tr>\n",
                            "    <tr>\n",
                            "      <th>14</th>\n",
                            "      <td>Pia</td>\n",
                            "      <td>15</td>\n",
                            "      <td>166</td>\n",
                            "      <td>166.1</td>\n",
                            "      <td>female</td>\n",
                            "    </tr>\n",
                            "    <tr>\n",
                            "      <th>15</th>\n",
                            "      <td>Marc</td>\n",
                            "      <td>16</td>\n",
                            "      <td>166</td>\n",
                            "      <td>166.5</td>\n",
                            "      <td>male</td>\n",
                            "    </tr>\n",
                            "    <tr>\n",
                            "      <th>16</th>\n",
                            "      <td>Ralph</td>\n",
                            "      <td>17</td>\n",
                            "      <td>166</td>\n",
                            "      <td>166.6</td>\n",
                            "      <td>male</td>\n",
                            "    </tr>\n",
                            "    <tr>\n",
                            "      <th>17</th>\n",
                            "      <td>Tom</td>\n",
                            "      <td>18</td>\n",
                            "      <td>167</td>\n",
                            "      <td>166.2</td>\n",
                            "      <td>male</td>\n",
                            "    </tr>\n",
                            "    <tr>\n",
                            "      <th>18</th>\n",
                            "      <td>Steven</td>\n",
                            "      <td>19</td>\n",
                            "      <td>167</td>\n",
                            "      <td>167.3</td>\n",
                            "      <td>male</td>\n",
                            "    </tr>\n",
                            "    <tr>\n",
                            "      <th>19</th>\n",
                            "      <td>Emanuel</td>\n",
                            "      <td>20</td>\n",
                            "      <td>168</td>\n",
                            "      <td>168.5</td>\n",
                            "      <td>male</td>\n",
                            "    </tr>\n",
                            "  </tbody>\n",
                            "</table>\n",
                            "</div>"
                        ],
                        "text/plain": [
                            "        Name  ID%  Height  Average Height Parents  Gender\n",
                            "0   Stefanie    1     162                   161.5  female\n",
                            "1      Peter    2     163                   163.5    male\n",
                            "2   Stefanie    3     163                   163.2  female\n",
                            "3    Manuela    4     164                   165.1  female\n",
                            "4      Simon    5     164                   163.2    male\n",
                            "5     Sophia    6     164                   164.4  female\n",
                            "6      Ellen    7     164                   164.0  female\n",
                            "7     Emilia    8     165                   165.2  female\n",
                            "8       Lina    9     165                   165.2  female\n",
                            "9      Marie   10     165                   165.1  female\n",
                            "10      Lena   11     165                   166.3  female\n",
                            "11      Mila   12     165                   167.4  female\n",
                            "12       Fin   13     165                   165.5    male\n",
                            "13      Eric   14     166                   166.2    male\n",
                            "14       Pia   15     166                   166.1  female\n",
                            "15      Marc   16     166                   166.5    male\n",
                            "16     Ralph   17     166                   166.6    male\n",
                            "17       Tom   18     167                   166.2    male\n",
                            "18    Steven   19     167                   167.3    male\n",
                            "19   Emanuel   20     168                   168.5    male"
                        ]
                    },
                    "execution_count": 10,
                    "metadata": {},
                    "output_type": "execute_result"
                }
            ],
            "source": [
                "# URL of data\n",
                "URL = \"https://raw.githubusercontent.com/kirenz/datasets/master/height_unclean.csv\"\n",
                "df = pd.read_csv(URL, sep=\";\", decimal=',')\n",
                "df"
            ]
        },
        {
            "cell_type": "markdown",
            "metadata": {},
            "source": [
                "## Change column names\n",
                "\n",
                "Usually, we prefer to work with columns that have the following proporties:\n",
                "\n",
                "\n",
                "- no leading or trailing whitespace (`\"name\"` instead of `\" name \"`, `\" name\"` or `\"name \"`)\n",
                "\n",
                "\n",
                "- all lowercase (`\"name\"` instead of `\"Name\"`)\n",
                "\n",
                "\n",
                "- now white spaces (`\"my_name\"` instead of `\"my name\"`)"
            ]
        },
        {
            "cell_type": "markdown",
            "metadata": {},
            "source": [
                "### Simple rename"
            ]
        },
        {
            "cell_type": "markdown",
            "metadata": {},
            "source": [
                "- First, we rename columns by simply using a mapping\n",
                "- We rename `\"Name\"` to `\"name\"` (we want to display errors and don't save the changes for now).\n",
                "\n",
                "\n",
                "Hint:\n",
                "\n",
                "```python\n",
                "df = df.rename(columns={\"OLD_NAME\": \"NEW_NAME\"}, errors=\"raise\")\n",
                "```"
            ]
        },
        {
            "cell_type": "code",
            "execution_count": 7,
            "metadata": {
                "deletable": false,
                "nbgrader": {
                    "cell_type": "code",
                    "checksum": "de18249c15a72628654423b133c97d24",
                    "grade": false,
                    "grade_id": "rename_name",
                    "locked": false,
                    "schema_version": 3,
                    "solution": true,
                    "task": false
                }
            },
            "outputs": [],
            "source": [
                "df = df.rename(columns={\"Name\": \"name\", \"ID%\" : \"id%\", \"Height\": \"height\", \"Average Height Parents\": \"avgheightParents\", \" Gender\":\"gender\" }, errors=\"raise\")"
            ]
        },
        {
            "cell_type": "code",
            "execution_count": null,
            "metadata": {
                "deletable": false,
                "editable": false,
                "nbgrader": {
                    "cell_type": "code",
                    "checksum": "e61fa950241d5efd8a35abede03a9652",
                    "grade": true,
                    "grade_id": "c_rename_name",
                    "locked": true,
                    "points": 2,
                    "schema_version": 3,
                    "solution": false,
                    "task": false
                }
            },
            "outputs": [],
            "source": [
                "\"\"\"Check if your code returns the correct output\"\"\"\n",
                "assert df.loc[0, 'name'] == \"Stefanie\""
            ]
        },
        {
            "cell_type": "code",
            "execution_count": null,
            "metadata": {},
            "outputs": [],
            "source": [
                "df.head(2)"
            ]
        },
        {
            "cell_type": "markdown",
            "metadata": {},
            "source": [
                "- Let`s rename Gender to gender\n",
                "\n",
                "\n",
                "- Here, we just want to display the result (without saving it).\n",
                "\n",
                "\n",
                "- Remove the # and run the following code:"
            ]
        },
        {
            "cell_type": "code",
            "execution_count": null,
            "metadata": {},
            "outputs": [],
            "source": [
                "# df.rename(columns={\"Gender\": \"gender\"}, errors=\"raise\")"
            ]
        },
        {
            "cell_type": "markdown",
            "metadata": {},
            "source": [
                "- This raises an error. \n",
                "\n",
                "\n",
                "- Can you spot the problem? Take a look at the end of the error statement and describe the type of error. How could you fix the problem?"
            ]
        },
        {
            "cell_type": "markdown",
            "metadata": {
                "deletable": false,
                "nbgrader": {
                    "cell_type": "markdown",
                    "checksum": "a7907bed0b8ec524d12ff2b58c67924d",
                    "grade": true,
                    "grade_id": "c_rename",
                    "locked": false,
                    "points": 2,
                    "schema_version": 3,
                    "solution": true,
                    "task": false
                }
            },
            "source": [
                "YOUR ANSWER HERE"
            ]
        },
        {
            "cell_type": "markdown",
            "metadata": {},
            "source": [
                "### Trailing and leading spaces (with regex)"
            ]
        },
        {
            "cell_type": "markdown",
            "metadata": {},
            "source": [
                "- We use regular expressions to deal with whitespaces\n",
                "\n",
                "\n",
                "- To change multiple column names in `df` at once, we use the method `df.columns = df.columns.str___` \n",
                "\n",
                "- To replace the spaces, we use `.replace()` with `regex=True`\n",
                "\n",
                "- In the following function, we search for leading (line start and spaces) and trailing (line end and spaces) spaces and replace them with an empty string:"
            ]
        },
        {
            "cell_type": "markdown",
            "metadata": {},
            "source": [
                "Hint:\n",
                "\n",
                "replace r\"*this pattern*\" with empty string r\"\"\n",
                "\n",
                "\n",
                "```python\n",
                "df.columns = df.columns.str.replace(r\"___ | ___\", r\"\", regex=True)\n",
                "```"
            ]
        },
        {
            "cell_type": "markdown",
            "metadata": {},
            "source": [
                "Explanation for *regex* (see also [Stackoverflow](https://stackoverflow.com/a/67466222)):\n",
                "\n",
                "- we start with `r` (for raw) which tells Python to treat all following input as raw text (without interpreting it)\n",
                "- \"`^`\": is line start\n",
                "- \" \": is a white space\n",
                "- \"`+`\": some following characters\n",
                "- \"`|`\": is or\n",
                "- \"`$`\": is line end\n",
                "- \"\": is an empty string "
            ]
        },
        {
            "cell_type": "markdown",
            "metadata": {},
            "source": [
                "\n",
                "To learn more about regular expressions (\"regex\"), visit the following sites:\n",
                "\n",
                "- [regular expression basics](https://www.w3schools.com/python/python_regex.asp).\n",
                "- [interactive regular expressions tool](https://regex101.com/)"
            ]
        },
        {
            "cell_type": "code",
            "execution_count": 11,
            "metadata": {
                "deletable": false,
                "nbgrader": {
                    "cell_type": "code",
                    "checksum": "2de8014c3d7dcd6316abdede313b6c73",
                    "grade": false,
                    "grade_id": "repl",
                    "locked": false,
                    "schema_version": 3,
                    "solution": true,
                    "task": false
                }
            },
            "outputs": [],
            "source": [
                "df.columns = df.columns.str.replace(r\"^ | $\", r\"\", regex=True)"
            ]
        },
        {
            "cell_type": "code",
            "execution_count": 14,
            "metadata": {
                "deletable": false,
                "editable": false,
                "nbgrader": {
                    "cell_type": "code",
                    "checksum": "bbe42f902092b6abf88b26b4da8e09ca",
                    "grade": true,
                    "grade_id": "c_repl",
                    "locked": true,
                    "points": 2,
                    "schema_version": 3,
                    "solution": false,
                    "task": false
                }
            },
            "outputs": [],
            "source": [
                "\"\"\"Check if your code returns the correct output\"\"\"\n",
                "assert df.columns.tolist() == ['Name', 'ID%', 'Height', 'Average Height Parents', 'Gender']"
            ]
        },
        {
            "cell_type": "code",
            "execution_count": null,
            "metadata": {},
            "outputs": [],
            "source": [
                "df.columns"
            ]
        },
        {
            "cell_type": "markdown",
            "metadata": {},
            "source": [
                "### Replace special characters\n",
                "\n",
                "- Again, we use regular expressions to deal with special characters (like %, &, $ etc.)"
            ]
        },
        {
            "cell_type": "markdown",
            "metadata": {},
            "source": [
                "Replace \"%\" with an empty string"
            ]
        },
        {
            "cell_type": "code",
            "execution_count": 20,
            "metadata": {
                "deletable": false,
                "nbgrader": {
                    "cell_type": "code",
                    "checksum": "245b050fb17a8362ae78567cf6d8068f",
                    "grade": false,
                    "grade_id": "replace_percent",
                    "locked": false,
                    "schema_version": 3,
                    "solution": true,
                    "task": false
                }
            },
            "outputs": [],
            "source": [
                "df.columns = df.columns.str.replace(r\"%\", r\"\", regex=True)\n"
            ]
        },
        {
            "cell_type": "code",
            "execution_count": 21,
            "metadata": {
                "deletable": false,
                "editable": false,
                "nbgrader": {
                    "cell_type": "code",
                    "checksum": "a71273606961a62f0fdc67a6b4aeb1fe",
                    "grade": true,
                    "grade_id": "c_replace_percent",
                    "locked": true,
                    "points": 2,
                    "schema_version": 3,
                    "solution": false,
                    "task": false
                }
            },
            "outputs": [],
            "source": [
                "\"\"\"Check if your code returns the correct output\"\"\"\n",
                "assert df.columns.tolist() == ['Name', 'ID', 'Height', 'Average Height Parents', 'Gender']"
            ]
        },
        {
            "cell_type": "code",
            "execution_count": 22,
            "metadata": {},
            "outputs": [
                {
                    "data": {
                        "text/plain": [
                            "Index(['Name', 'ID', 'Height', 'Average Height Parents', 'Gender'], dtype='object')"
                        ]
                    },
                    "execution_count": 22,
                    "metadata": {},
                    "output_type": "execute_result"
                }
            ],
            "source": [
                "df.columns"
            ]
        },
        {
            "cell_type": "code",
            "execution_count": 29,
            "metadata": {
                "deletable": false,
                "nbgrader": {
                    "cell_type": "code",
                    "checksum": "1bfd02a1d28f95ac9bf5700ead8152ce",
                    "grade": false,
                    "grade_id": "lower",
                    "locked": false,
                    "schema_version": 3,
                    "solution": true,
                    "task": false
                }
            },
            "outputs": [
                {
                    "data": {
                        "text/plain": [
                            "Index(['Name', 'ID', 'Height', 'Average_Height_Parents', 'Gender'], dtype='object')"
                        ]
                    },
                    "execution_count": 29,
                    "metadata": {},
                    "output_type": "execute_result"
                }
            ],
            "source": [
                "df.columns = df.columns.str.lower()\n",
                "df.columns = df.columns.str.replace(r\" \", r\"_\", regex=True)\n",
                "df.columns"
            ]
        },
        {
            "cell_type": "code",
            "execution_count": 27,
            "metadata": {
                "deletable": false,
                "editable": false,
                "nbgrader": {
                    "cell_type": "code",
                    "checksum": "66f8dea2f16f4c38bf2e46a4b951cfeb",
                    "grade": true,
                    "grade_id": "c_lower",
                    "locked": true,
                    "points": 2,
                    "schema_version": 3,
                    "solution": false,
                    "task": false
                }
            },
            "outputs": [
                {
                    "ename": "AssertionError",
                    "evalue": "",
                    "output_type": "error",
                    "traceback": [
                        "\u001b[1;31m---------------------------------------------------------------------------\u001b[0m",
                        "\u001b[1;31mAssertionError\u001b[0m                            Traceback (most recent call last)",
                        "Cell \u001b[1;32mIn[27], line 2\u001b[0m\n\u001b[0;32m      1\u001b[0m \u001b[38;5;124;03m\"\"\"Check if your code returns the correct output\"\"\"\u001b[39;00m\n\u001b[1;32m----> 2\u001b[0m \u001b[38;5;28;01massert\u001b[39;00m df\u001b[38;5;241m.\u001b[39mcolumns\u001b[38;5;241m.\u001b[39mtolist() \u001b[38;5;241m==\u001b[39m [\u001b[38;5;124m'\u001b[39m\u001b[38;5;124mname\u001b[39m\u001b[38;5;124m'\u001b[39m, \u001b[38;5;124m'\u001b[39m\u001b[38;5;124mid\u001b[39m\u001b[38;5;124m'\u001b[39m, \u001b[38;5;124m'\u001b[39m\u001b[38;5;124mheight\u001b[39m\u001b[38;5;124m'\u001b[39m, \u001b[38;5;124m'\u001b[39m\u001b[38;5;124maverage_height_parents\u001b[39m\u001b[38;5;124m'\u001b[39m, \u001b[38;5;124m'\u001b[39m\u001b[38;5;124mgender\u001b[39m\u001b[38;5;124m'\u001b[39m]\n",
                        "\u001b[1;31mAssertionError\u001b[0m: "
                    ]
                }
            ],
            "source": [
                "\"\"\"Check if your code returns the correct output\"\"\"\n",
                "assert df.columns.tolist() == ['name', 'id', 'height', 'average_height_parents', 'gender']"
            ]
        },
        {
            "cell_type": "code",
            "execution_count": null,
            "metadata": {},
            "outputs": [],
            "source": [
                "df.columns"
            ]
        }
    ],
    "metadata": {
        "interpreter": {
            "hash": "463226f144cc21b006ce6927bfc93dd00694e52c8bc6857abb6e555b983749e9"
        },
        "kernelspec": {
            "display_name": "Python 3 (ipykernel)",
            "language": "python",
            "name": "python3"
        },
        "language_info": {
            "codemirror_mode": {
                "name": "ipython",
                "version": 3
            },
            "file_extension": ".py",
            "mimetype": "text/x-python",
            "name": "python",
            "nbconvert_exporter": "python",
            "pygments_lexer": "ipython3",
            "version": "3.11.9"
        }
    },
    "nbformat": 4,
    "nbformat_minor": 2
}
